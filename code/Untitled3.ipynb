{
 "cells": [
  {
   "cell_type": "code",
   "execution_count": null,
   "metadata": {
    "collapsed": true
   },
   "outputs": [],
   "source": [
    "iris = np.genfromtxt(\"data/iris.txt\",delimiter=None)\n",
    "X, Y = iris[:,0:2], iris[:,-1] # get first two features & target\n",
    "X,Y = ml.shuffleData(X,Y) # reorder randomly (important later)\n",
    "X,_ = rescale(X) # works much better on rescaled data\n",
    "XA, YA = X[Y<2,:], Y[Y<2] # get class 0 vs 1\n",
    "XB, YB = X[Y>0,:], Y[Y>0] # get class 1 vs 2\n"
   ]
  }
 ],
 "metadata": {
  "anaconda-cloud": {},
  "kernelspec": {
   "display_name": "Python [Root]",
   "language": "python",
   "name": "Python [Root]"
  },
  "language_info": {
   "codemirror_mode": {
    "name": "ipython",
    "version": 3
   },
   "file_extension": ".py",
   "mimetype": "text/x-python",
   "name": "python",
   "nbconvert_exporter": "python",
   "pygments_lexer": "ipython3",
   "version": "3.5.2"
  }
 },
 "nbformat": 4,
 "nbformat_minor": 0
}
